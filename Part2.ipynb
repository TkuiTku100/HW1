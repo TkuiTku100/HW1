{
  "cells": [
    {
      "cell_type": "code",
      "source": [
        "!pip install faiss-cpu"
      ],
      "metadata": {
        "id": "DoOFtwAvcHMd",
        "colab": {
          "base_uri": "https://localhost:8080/"
        },
        "outputId": "84010184-9a18-4b57-bbdc-81e2c9ff2cb7"
      },
      "id": "DoOFtwAvcHMd",
      "execution_count": null,
      "outputs": [
        {
          "output_type": "stream",
          "name": "stdout",
          "text": [
            "Requirement already satisfied: faiss-cpu in /usr/local/lib/python3.10/dist-packages (1.8.0.post1)\n",
            "Requirement already satisfied: numpy<2.0,>=1.0 in /usr/local/lib/python3.10/dist-packages (from faiss-cpu) (1.25.2)\n",
            "Requirement already satisfied: packaging in /usr/local/lib/python3.10/dist-packages (from faiss-cpu) (24.1)\n"
          ]
        }
      ]
    },
    {
      "cell_type": "markdown",
      "source": [
        "#Imports"
      ],
      "metadata": {
        "id": "0_3aQqXNB631"
      },
      "id": "0_3aQqXNB631"
    },
    {
      "cell_type": "code",
      "execution_count": null,
      "id": "initial_id",
      "metadata": {
        "id": "initial_id"
      },
      "outputs": [],
      "source": [
        "import numpy as np\n",
        "from scipy import spatial\n",
        "import faiss\n",
        "from time import time\n",
        "\n",
        "from collections import defaultdict\n",
        "from sklearn.cluster import KMeans"
      ]
    },
    {
      "cell_type": "markdown",
      "id": "62f09c59a02a3b0d",
      "metadata": {
        "id": "62f09c59a02a3b0d"
      },
      "source": [
        "## Helper Function"
      ]
    },
    {
      "cell_type": "code",
      "execution_count": null,
      "id": "5a991f1eb012a476",
      "metadata": {
        "id": "5a991f1eb012a476"
      },
      "outputs": [],
      "source": [
        "def semi_optimized_exhaustive_search(\n",
        "        index_vectors: np.ndarray,\n",
        "        query_vectors: np.ndarray,\n",
        "        k: int,\n",
        "):\n",
        "    \"\"\"\n",
        "    This function performs an optimized exhaustive search.\n",
        "    Args:\n",
        "        index_vectors: An array of shape (n_index, dim) containing the index vectors.\n",
        "        query_vectors: An array of shape (n_queries, dim) containing the query vectors.\n",
        "        dim: The dimensionality of the vectors.\n",
        "    Returns:\n",
        "        An array of shape (n_queries, k) containing the indices of the k nearest neighbors for each query vector.\n",
        "    \"\"\"\n",
        "    ann_lists = []\n",
        "    for query_vec in query_vectors:\n",
        "        distances = np.linalg.norm(index_vectors - query_vec, axis=1)\n",
        "        ann_lists.append(list(np.argsort(distances)[:k]))\n",
        "    return np.array(ann_lists)"
      ]
    },
    {
      "cell_type": "code",
      "execution_count": null,
      "id": "a8ef475c717fbe2e",
      "metadata": {
        "id": "a8ef475c717fbe2e"
      },
      "outputs": [],
      "source": [
        "def build_faiss_flatl2_index(\n",
        "        index_vectors: np.ndarray,\n",
        "        dim: int,\n",
        "):\n",
        "    \"\"\"\n",
        "    This function builds a Faiss flat L2 index.\n",
        "    Args:\n",
        "        index_vectors: An array of shape (n_index, dim) containing the index vectors.\n",
        "        dim: The dimensionality of the vectors.\n",
        "    Returns:\n",
        "        A Faiss flat L2 index.\n",
        "    \"\"\"\n",
        "    index = faiss.IndexFlatL2(dim)\n",
        "    index.add(index_vectors)\n",
        "    return index"
      ]
    },
    {
      "cell_type": "code",
      "execution_count": null,
      "id": "1df7a2d698755a82",
      "metadata": {
        "id": "1df7a2d698755a82"
      },
      "outputs": [],
      "source": [
        "def faiss_search(\n",
        "        query_vectors: np.ndarray,\n",
        "        index: faiss.Index,\n",
        "        k: int,\n",
        "):\n",
        "    \"\"\"\n",
        "    This function uses a Faiss index to search for the k-nearest neighbors of query_vectors.\n",
        "    Args:\n",
        "        query_vectors: An array of shape (n_queries, dim) containing the query vectors.\n",
        "        index: A Faiss index.\n",
        "        k: The number of nearest neighbors to retrieve.\n",
        "    Returns:\n",
        "        An array of shape (, ) containing the indices of the k-nearest neighbors for each query vector.\n",
        "    \"\"\"\n",
        "    distances, indices = index.search(query_vectors, k)\n",
        "    return indices"
      ]
    },
    {
      "cell_type": "code",
      "execution_count": null,
      "id": "af14bea64023a3d4",
      "metadata": {
        "id": "af14bea64023a3d4"
      },
      "outputs": [],
      "source": [
        "def build_faiss_lsh_index(\n",
        "        index_vectors: np.ndarray,\n",
        "        dim: int,\n",
        "        nbits: int,\n",
        "):\n",
        "    \"\"\"\n",
        "    This function builds a Faiss LSH index.\n",
        "    Args:\n",
        "        index_vectors: An array of shape (n_index, dim) containing the index vectors.\n",
        "        dim: The dimensionality of the vectors.\n",
        "        nbits: The number of bits to use in the hash.\n",
        "    Returns:\n",
        "        A Faiss LSH index.\n",
        "    \"\"\"\n",
        "    index = faiss.IndexLSH(dim, nbits)\n",
        "    index.add(index_vectors)\n",
        "    return index"
      ]
    },
    {
      "cell_type": "code",
      "execution_count": null,
      "id": "b4b0932dfa7d7a4c",
      "metadata": {
        "id": "b4b0932dfa7d7a4c"
      },
      "outputs": [],
      "source": [
        "def compute_recall_at_k(\n",
        "        nn_gt: np.ndarray,\n",
        "        ann: np.ndarray,\n",
        "        k: int,\n",
        "):\n",
        "    \"\"\"\n",
        "    This function computes the recall@k.\n",
        "    Args:\n",
        "        nn_gt: The ground truth nearest neighbors.\n",
        "        ann: The approximate nearest neighbors.\n",
        "        k: The number of nearest neighbors to consider.\n",
        "    Returns:\n",
        "        The recall@k.\n",
        "    \"\"\"\n",
        "    return round(sum([len(set(ann[i]) & set(nn_gt[i])) / k for i in range(len(ann))])/len(ann), 3)"
      ]
    },
    {
      "cell_type": "markdown",
      "id": "77d4be2e90ed842",
      "metadata": {
        "id": "77d4be2e90ed842"
      },
      "source": [
        "# 2.1 -- LSH vs Naive Exhaustive Search (Regular Index Vectors)\n",
        "### You just have to run the following cells and add the following results to the report:\n",
        "* running time of the ground truth computation with semi_optimized_exhaustive_search (wall time)\n",
        "* running time of creating faiss_lsh_index (wall time)\n",
        "* running time of faiss_search over query_vectors with faiss_lsh_index (wall time)\n",
        "* recall@10 for faiss_lsh_ann"
      ]
    },
    {
      "cell_type": "code",
      "execution_count": null,
      "id": "b4fdbd7671405821",
      "metadata": {
        "id": "b4fdbd7671405821"
      },
      "outputs": [],
      "source": [
        "query_vectors = np.load('/content/query_vectors.npy')\n",
        "index_vectors = np.load('/content/index_vectors.npy')\n",
        "k=10\n",
        "dim = index_vectors.shape[1]"
      ]
    },
    {
      "cell_type": "code",
      "execution_count": null,
      "id": "65ff74d429524ffc",
      "metadata": {
        "colab": {
          "base_uri": "https://localhost:8080/"
        },
        "id": "65ff74d429524ffc",
        "outputId": "2d428773-4d9e-4135-8234-8474ec1ccd0b"
      },
      "outputs": [
        {
          "output_type": "stream",
          "name": "stdout",
          "text": [
            "part 2.1.1\n",
            "CPU times: user 11.6 s, sys: 10.8 s, total: 22.4 s\n",
            "Wall time: 35.2 s\n"
          ]
        }
      ],
      "source": [
        "%%time\n",
        "print(\"part 2.1.1\")\n",
        "gt_nn = semi_optimized_exhaustive_search(index_vectors, query_vectors, k)"
      ]
    },
    {
      "cell_type": "code",
      "execution_count": null,
      "id": "bd448cbdb96b1ba0",
      "metadata": {
        "colab": {
          "base_uri": "https://localhost:8080/"
        },
        "id": "bd448cbdb96b1ba0",
        "outputId": "df56c06d-ae4a-4612-817d-c3f073eec14c"
      },
      "outputs": [
        {
          "output_type": "stream",
          "name": "stdout",
          "text": [
            "part 2.1.2\n",
            "CPU times: user 1.81 s, sys: 241 ms, total: 2.05 s\n",
            "Wall time: 3.28 s\n"
          ]
        }
      ],
      "source": [
        "%%time\n",
        "print(\"part 2.1.2\")\n",
        "faiss_lsh_index = build_faiss_lsh_index(index_vectors, dim, nbits=2000)"
      ]
    },
    {
      "cell_type": "code",
      "execution_count": null,
      "id": "b0a321e6b7406267",
      "metadata": {
        "colab": {
          "base_uri": "https://localhost:8080/"
        },
        "id": "b0a321e6b7406267",
        "outputId": "7a2a88d7-1d45-424f-b463-7506f0770a67"
      },
      "outputs": [
        {
          "output_type": "stream",
          "name": "stdout",
          "text": [
            "part 2.1.3\n",
            "CPU times: user 1.27 s, sys: 709 µs, total: 1.27 s\n",
            "Wall time: 1.29 s\n"
          ]
        }
      ],
      "source": [
        "%%time\n",
        "print(\"part 2.1.3\")\n",
        "faiss_lsh_ann = faiss_search(query_vectors, faiss_lsh_index, k)"
      ]
    },
    {
      "cell_type": "code",
      "execution_count": null,
      "id": "e5554595c4d77a27",
      "metadata": {
        "colab": {
          "base_uri": "https://localhost:8080/"
        },
        "id": "e5554595c4d77a27",
        "outputId": "57dcf8c3-1b5b-4ef7-97a8-8227939c660a"
      },
      "outputs": [
        {
          "output_type": "stream",
          "name": "stdout",
          "text": [
            "part 2.1.4\n",
            "recall@10 for faiss_lsh_index: 0.138\n"
          ]
        }
      ],
      "source": [
        "print(\"part 2.1.4\")\n",
        "print(f\"recall@10 for faiss_lsh_index: {compute_recall_at_k(gt_nn, faiss_lsh_ann, k)}\")"
      ]
    },
    {
      "cell_type": "markdown",
      "id": "ad5ca983b3a893e5",
      "metadata": {
        "id": "ad5ca983b3a893e5"
      },
      "source": [
        "# 2.2 -- Custom Indexing Algorithm\n",
        "Build an indexing algorithm that satisfies the following requirements:\n",
        "* The indexing algorithm should be able to handle vectors of different dimensions\n",
        "* The running time of the indexing should be less than half of the running time of semi_optimized_exhaustive_search), reported in Section 2.1.\n",
        "* The running time of searching over the index should be less than a third (1/3) of the time of the semi_optimized_exhaustive_search function, reported in Section 2.1.\n",
        "* The performance (in terms of recall@10) of the indexing algorithm should be at least 0.8.\n",
        "\n",
        "The last three bullets should also appear in the report.\n",
        "You are allowed to add as many helper functions as you need. You cannot use faiss of scipy libraries for this task. Numpy is allowed.\n",
        "\n",
        "You can also test your algorithm with the additional two query-index sets by replacing the calls made few cells ago to:\n",
        "\n",
        "    query_vectors = np.load('data/query_vectors2.npy')\n",
        "    index_vectors = np.load('data/index_vectors2.npy')\n",
        "or:\n",
        "\n",
        "    query_vectors = np.load('data/query_vectors3.npy')\n",
        "    index_vectors = np.load('data/index_vectors3.npy')\n",
        "    \n",
        "the aforementioned requirements should also be satisfied over these two query-index sets. No need to insert the results over these two to the report."
      ]
    },
    {
      "cell_type": "markdown",
      "source": [
        "#Help Function For Indexing Function"
      ],
      "metadata": {
        "id": "LM4Dk950-11b"
      },
      "id": "LM4Dk950-11b"
    },
    {
      "cell_type": "code",
      "source": [
        "# Performs k-means clustering on vectors\n",
        "def k_M(n_clusters, vectors):\n",
        "    \"\"\"\n",
        "    This function create the custom index.\n",
        "    Args:\n",
        "        n_clusters: The number of clusters to form.\n",
        "        vectors: An array of shape (n_vectors, dim) containing the index vectors.\n",
        "    \"\"\"\n",
        "    #res: a dictionary that will store the indices of the input vectors, grouped by the cluster they belong to\n",
        "    res={}\n",
        "\n",
        "    kmeans = KMeans(n_clusters=n_clusters, max_iter=100)\n",
        "    kmeans.fit(vectors)\n",
        "\n",
        "    #getting the cluster labels assigned to each data point after fitting the model (ranging from 0 to k-1)\n",
        "    labs = kmeans.labels_\n",
        "    for i, lab in enumerate(labs):\n",
        "        #checking if we need to create a new key to a label\n",
        "        if lab not in res:\n",
        "            res[lab] = []\n",
        "        #the index of the data point is appended to the list corresponding to its cluster label\n",
        "        res[lab].append(i)\n",
        "\n",
        "    return res, kmeans"
      ],
      "metadata": {
        "id": "8Atp8UHp-fqb"
      },
      "id": "8Atp8UHp-fqb",
      "execution_count": null,
      "outputs": []
    },
    {
      "cell_type": "markdown",
      "source": [
        "#Help Function for Custom Search"
      ],
      "metadata": {
        "id": "vI-k_Bvz-u2p"
      },
      "id": "vI-k_Bvz-u2p"
    },
    {
      "cell_type": "code",
      "source": [
        "def closest_k(q_indexes, i_indexes, k, query_vectors, index_vectors):\n",
        "    \"\"\"\n",
        "    This function finds the closest k vectors from a set of index vectors for each vector in a set of query vectors.\n",
        "    Args:\n",
        "        q_indexes: The indexes of the query vectors.\n",
        "        i_indexes: The indexes of the index vectors.\n",
        "        k: The number of nearest neighbors to retrieve.\n",
        "        query_vectors: An array of shape (n_queries, dim) containing the query vectors.\n",
        "        index_vectors: An array of shape (n_vectors, dim) containing the index vectors.\n",
        "    \"\"\"\n",
        "    #selects a subset of vectors from query_vectors and index_vectors\n",
        "    selected_i = index_vectors[i_indexes]\n",
        "    selected_q = query_vectors[q_indexes]\n",
        "\n",
        "    #pairwise Euclidean distances between vectors in selected_q and selected_i\n",
        "    dis = np.linalg.norm(selected_q[:, np.newaxis] - selected_i, axis=2)\n",
        "\n",
        "    #partially sorts the distances along the specified axis in order to get the k smallest elements\n",
        "    smallest_k = np.argpartition(dis, k, axis=1)[:, :k]\n",
        "\n",
        "    #res: a list of tuples. tuple contains: list of indices of k nearest index vectors to each query vector.\n",
        "    #The index of the query vector itself.\n",
        "    res = []\n",
        "    for i, q_idx in enumerate(q_indexes):\n",
        "        #finding the K closest indeices\n",
        "        closest = [i_indexes[idx] for idx in smallest_k[i]]\n",
        "\n",
        "        res.append((q_idx, closest))\n",
        "\n",
        "    return res"
      ],
      "metadata": {
        "id": "7RXiPIvI-tWG"
      },
      "id": "7RXiPIvI-tWG",
      "execution_count": null,
      "outputs": []
    },
    {
      "cell_type": "code",
      "execution_count": null,
      "id": "UKm8HozIgP3v",
      "metadata": {
        "id": "UKm8HozIgP3v"
      },
      "outputs": [],
      "source": [
        "def custom_indexing_algorithm(index_vectors, dim, n_clusters):\n",
        "    \"\"\"\n",
        "    This function create the custom index.\n",
        "    Args:\n",
        "        index_vectors: An array of shape (n_vectors, dim) containing the index vectors.\n",
        "        dim: The custom index.\n",
        "        n_clusters: The required number of clusters.\n",
        "    \"\"\"\n",
        "    dict_i, trained_km = k_M(n_clusters, index_vectors)\n",
        "\n",
        "    return dict_i, trained_km\n",
        "\n",
        "\n",
        "def custom_index_search(query_vectors, k, dict_i, index_vectors, trained_km):\n",
        "    \"\"\"\n",
        "    This function searches over the custom index.\n",
        "    Args:\n",
        "        query_vectors: An array of shape (n_queries, dim) containing the query vectors.\n",
        "        k: The number of nearest neighbors to retrieve.\n",
        "        dict_i: The code to index dictionary.\n",
        "        index_vectors: An array of shape (n_vectors, dim) containing the index vectors.\n",
        "        trained_km: The trained k-means model.\n",
        "    \"\"\"\n",
        "    res=[]\n",
        "\n",
        "    #indeices_to_q: a dictionary that will store the indices of the input vectors, grouped by the cluster they belong to\n",
        "    indeices_to_q={}\n",
        "\n",
        "    #initializes with an empty list for each cluster label\n",
        "    for clus_index in range(len(dict_i)):\n",
        "      indeices_to_q[clus_index]=[]\n",
        "\n",
        "    #predicting cluster label using K-means model and adding index to the corresponding list in indeices_to_q\n",
        "    for i, q_vec in enumerate(query_vectors):\n",
        "        q_lab = trained_km.predict(q_vec.reshape(1, -1))\n",
        "        #the index of the data point is appended to the list corresponding to its cluster label\n",
        "        indeices_to_q[q_lab[0]].append(i)\n",
        "\n",
        "    for v_to_q in indeices_to_q.keys():\n",
        "      #retrieves the corresponding index_vectors and query_vectors\n",
        "      index_idxs = dict_i[v_to_q]\n",
        "      query_idxs = indeices_to_q[v_to_q]\n",
        "\n",
        "      #finding the closest k index_vectors to each query_vector\n",
        "      closest = closest_k(query_idxs, index_idxs, k, query_vectors, index_vectors)\n",
        "      res.extend(closest)\n",
        "\n",
        "    #sorting based on query_vector's index\n",
        "    res.sort(key = lambda x: x[0])\n",
        "    #list of lists - each inner list contains the indices of the k nearest index vectors for each query_vector\n",
        "    res = [x[1] for x in res]\n",
        "\n",
        "    #casting list of lists to nparray\n",
        "    return np.array(res)"
      ]
    },
    {
      "cell_type": "code",
      "execution_count": null,
      "id": "ef371ecd242846db",
      "metadata": {
        "colab": {
          "base_uri": "https://localhost:8080/"
        },
        "id": "ef371ecd242846db",
        "outputId": "75e8c873-9d5b-48ed-ad58-42e4c913feeb"
      },
      "outputs": [
        {
          "output_type": "stream",
          "name": "stdout",
          "text": [
            "part 2.2.2\n"
          ]
        },
        {
          "output_type": "stream",
          "name": "stderr",
          "text": [
            "/usr/local/lib/python3.10/dist-packages/sklearn/cluster/_kmeans.py:870: FutureWarning: The default value of `n_init` will change from 10 to 'auto' in 1.4. Set the value of `n_init` explicitly to suppress the warning\n",
            "  warnings.warn(\n"
          ]
        },
        {
          "output_type": "stream",
          "name": "stdout",
          "text": [
            "CPU times: user 1.57 s, sys: 533 ms, total: 2.1 s\n",
            "Wall time: 2.11 s\n"
          ]
        }
      ],
      "source": [
        "%%time\n",
        "print(\"part 2.2.2\")\n",
        "clus_num=10\n",
        "custom_index, trained_kmeans = custom_indexing_algorithm(index_vectors, dim, clus_num)"
      ]
    },
    {
      "cell_type": "code",
      "execution_count": null,
      "id": "1c40c61275a3d001",
      "metadata": {
        "colab": {
          "base_uri": "https://localhost:8080/"
        },
        "id": "1c40c61275a3d001",
        "outputId": "7bd89f65-6279-4668-da78-2043467fcda7"
      },
      "outputs": [
        {
          "output_type": "stream",
          "name": "stdout",
          "text": [
            "part 2.2.3\n",
            "CPU times: user 1.34 s, sys: 985 ms, total: 2.33 s\n",
            "Wall time: 3.24 s\n"
          ]
        }
      ],
      "source": [
        "%%time\n",
        "print(\"part 2.2.3\")\n",
        "custom_index_ann = custom_index_search(query_vectors , 10, custom_index, index_vectors, trained_kmeans)"
      ]
    },
    {
      "cell_type": "code",
      "execution_count": null,
      "id": "3ddba190c55cd0af",
      "metadata": {
        "colab": {
          "base_uri": "https://localhost:8080/"
        },
        "id": "3ddba190c55cd0af",
        "outputId": "36c60b20-d923-4b52-8ef6-86fd90a6f38e"
      },
      "outputs": [
        {
          "output_type": "stream",
          "name": "stdout",
          "text": [
            "part 2.2.4\n",
            "recall@10 for custom_index_search: 1.0\n"
          ]
        }
      ],
      "source": [
        "print(\"part 2.2.4\")\n",
        "print(f\"recall@10 for custom_index_search: {compute_recall_at_k(gt_nn, custom_index_ann, k)}\")"
      ]
    },
    {
      "cell_type": "markdown",
      "source": [
        "#Testing on query_vectors2/3 and index_vectors2/3"
      ],
      "metadata": {
        "id": "GsgdVj712o4_"
      },
      "id": "GsgdVj712o4_"
    },
    {
      "cell_type": "code",
      "source": [
        "\"\"\"\n",
        "query_vectors2 = np.load('/content/query_vectors2.npy')\n",
        "index_vectors2 = np.load('/content/index_vectors2.npy')\n",
        "%%time\n",
        "custom_index2, trained_kmeans2 = custom_indexing_algorithm(index_vectors2, 100, clus_num)\n",
        "%%time\n",
        "custom_index_ann = custom_index_search(query_vectors2 , 10, custom_index2, index_vectors2, trained_kmeans2)\n",
        "%%time\n",
        "gt_nn2 = semi_optimized_exhaustive_search(index_vectors2, query_vectors2, k)\n",
        "print(f\"recall@10 for custom_index_search: {compute_recall_at_k(gt_nn2, custom_index_ann, k)}\")\n",
        "\"\"\""
      ],
      "metadata": {
        "id": "MCWVnPLTUfX_",
        "colab": {
          "base_uri": "https://localhost:8080/",
          "height": 87
        },
        "outputId": "a8112a37-c3ce-4d7c-95c7-e02ae88060f1"
      },
      "id": "MCWVnPLTUfX_",
      "execution_count": null,
      "outputs": [
        {
          "output_type": "execute_result",
          "data": {
            "text/plain": [
              "'\\nquery_vectors2 = np.load(\\'/content/query_vectors2.npy\\')\\nindex_vectors2 = np.load(\\'/content/index_vectors2.npy\\')\\n%%time\\ncustom_index2, trained_kmeans2 = custom_indexing_algorithm(index_vectors2, 100, clus_num)\\n%%time\\ncustom_index_ann = custom_index_search(query_vectors2 , 10, custom_index2, index_vectors2, trained_kmeans2)\\n%%time\\ngt_nn2 = semi_optimized_exhaustive_search(index_vectors2, query_vectors2, k)\\nprint(f\"recall@10 for custom_index_search: {compute_recall_at_k(gt_nn2, custom_index_ann, k)}\")\\n'"
            ],
            "application/vnd.google.colaboratory.intrinsic+json": {
              "type": "string"
            }
          },
          "metadata": {},
          "execution_count": 62
        }
      ]
    },
    {
      "cell_type": "code",
      "source": [
        "\"\"\"\n",
        "query_vectors3 = np.load('/content/query_vectors3.npy')\n",
        "index_vectors3 = np.load('/content/index_vectors3.npy')\n",
        "%%time\n",
        "custom_index3, trained_kmeans3 = custom_indexing_algorithm(index_vectors3, 200, clus_num)\n",
        "%%time\n",
        "custom_index_ann = custom_index_search(query_vectors3 , 10, custom_index3, index_vectors3, trained_kmeans3)\n",
        "%%time\n",
        "gt_nn3 = semi_optimized_exhaustive_search(index_vectors3, query_vectors3, k)\n",
        "print(f\"recall@10 for custom_index_search: {compute_recall_at_k(gt_nn3, custom_index_ann, k)}\")\n",
        "\"\"\""
      ],
      "metadata": {
        "id": "_Fapo2FwVEFE",
        "colab": {
          "base_uri": "https://localhost:8080/",
          "height": 87
        },
        "outputId": "eba8b6e3-bd3c-4dfb-8bfd-865bd38c0457"
      },
      "id": "_Fapo2FwVEFE",
      "execution_count": null,
      "outputs": [
        {
          "output_type": "execute_result",
          "data": {
            "text/plain": [
              "'\\nquery_vectors3 = np.load(\\'/content/query_vectors3.npy\\')\\nindex_vectors3 = np.load(\\'/content/index_vectors3.npy\\')\\n%%time\\ncustom_index3, trained_kmeans3 = custom_indexing_algorithm(index_vectors3, 200, clus_num)\\n%%time\\ncustom_index_ann = custom_index_search(query_vectors3 , 10, custom_index3, index_vectors3, trained_kmeans3)\\n%%time\\ngt_nn3 = semi_optimized_exhaustive_search(index_vectors3, query_vectors3, k)\\nprint(f\"recall@10 for custom_index_search: {compute_recall_at_k(gt_nn3, custom_index_ann, k)}\")\\n'"
            ],
            "application/vnd.google.colaboratory.intrinsic+json": {
              "type": "string"
            }
          },
          "metadata": {},
          "execution_count": 63
        }
      ]
    }
  ],
  "metadata": {
    "colab": {
      "provenance": [],
      "collapsed_sections": [
        "62f09c59a02a3b0d"
      ]
    },
    "kernelspec": {
      "display_name": "Python 3 (ipykernel)",
      "language": "python",
      "name": "python3"
    },
    "language_info": {
      "codemirror_mode": {
        "name": "ipython",
        "version": 3
      },
      "file_extension": ".py",
      "mimetype": "text/x-python",
      "name": "python",
      "nbconvert_exporter": "python",
      "pygments_lexer": "ipython3",
      "version": "3.11.3"
    }
  },
  "nbformat": 4,
  "nbformat_minor": 5
}
